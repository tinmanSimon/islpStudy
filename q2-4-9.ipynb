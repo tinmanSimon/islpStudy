{
 "cells": [
  {
   "cell_type": "markdown",
   "id": "75bac2f0",
   "metadata": {},
   "source": [
    "Q2.4.9.a\n",
    "[mpg, cylinders, displacement, horsepower, weight, acceleration, year] are quantitative.\n",
    "[origin, name] are qualitative. Even though origin has numeric values, it represents the qualitative values not quantitative values."
   ]
  },
  {
   "cell_type": "code",
   "execution_count": 5,
   "id": "71289fcc-8456-4287-b17b-54fcf8d5da63",
   "metadata": {},
   "outputs": [
    {
     "name": "stdout",
     "output_type": "stream",
     "text": [
      "      mpg  cylinders  displacement horsepower  weight  acceleration  year  \\\n",
      "0    18.0          8         307.0        130    3504          12.0    70   \n",
      "1    15.0          8         350.0        165    3693          11.5    70   \n",
      "2    18.0          8         318.0        150    3436          11.0    70   \n",
      "3    16.0          8         304.0        150    3433          12.0    70   \n",
      "4    17.0          8         302.0        140    3449          10.5    70   \n",
      "..    ...        ...           ...        ...     ...           ...   ...   \n",
      "392  27.0          4         140.0         86    2790          15.6    82   \n",
      "393  44.0          4          97.0         52    2130          24.6    82   \n",
      "394  32.0          4         135.0         84    2295          11.6    82   \n",
      "395  28.0          4         120.0         79    2625          18.6    82   \n",
      "396  31.0          4         119.0         82    2720          19.4    82   \n",
      "\n",
      "     origin                       name  \n",
      "0         1  chevrolet chevelle malibu  \n",
      "1         1          buick skylark 320  \n",
      "2         1         plymouth satellite  \n",
      "3         1              amc rebel sst  \n",
      "4         1                ford torino  \n",
      "..      ...                        ...  \n",
      "392       1            ford mustang gl  \n",
      "393       2                  vw pickup  \n",
      "394       1              dodge rampage  \n",
      "395       1                ford ranger  \n",
      "396       1                 chevy s-10  \n",
      "\n",
      "[397 rows x 9 columns]\n"
     ]
    }
   ],
   "source": [
    "import pandas as pd\n",
    "import matplotlib.pyplot as plt\n",
    "import numpy as np\n",
    "\n",
    "auto = pd.read_csv('Auto.csv')\n",
    "print(auto)"
   ]
  }
 ],
 "metadata": {
  "kernelspec": {
   "display_name": "Python 3 (ipykernel)",
   "language": "python",
   "name": "python3"
  },
  "language_info": {
   "codemirror_mode": {
    "name": "ipython",
    "version": 3
   },
   "file_extension": ".py",
   "mimetype": "text/x-python",
   "name": "python",
   "nbconvert_exporter": "python",
   "pygments_lexer": "ipython3",
   "version": "3.10.14"
  }
 },
 "nbformat": 4,
 "nbformat_minor": 5
}
